{
 "cells": [
  {
   "cell_type": "markdown",
   "metadata": {},
   "source": [
    "# https://www.kaggle.com/kanem2/rituximab#"
   ]
  },
  {
   "cell_type": "code",
   "execution_count": 80,
   "metadata": {},
   "outputs": [],
   "source": [
    "import pandas as pd\n",
    "import numpy as np\n",
    "import seaborn as sns"
   ]
  },
  {
   "cell_type": "code",
   "execution_count": 81,
   "metadata": {},
   "outputs": [
    {
     "data": {
      "text/html": [
       "<div>\n",
       "<style scoped>\n",
       "    .dataframe tbody tr th:only-of-type {\n",
       "        vertical-align: middle;\n",
       "    }\n",
       "\n",
       "    .dataframe tbody tr th {\n",
       "        vertical-align: top;\n",
       "    }\n",
       "\n",
       "    .dataframe thead th {\n",
       "        text-align: right;\n",
       "    }\n",
       "</style>\n",
       "<table border=\"1\" class=\"dataframe\">\n",
       "  <thead>\n",
       "    <tr style=\"text-align: right;\">\n",
       "      <th></th>\n",
       "      <th>FSC.H</th>\n",
       "      <th>SSC.H</th>\n",
       "      <th>FL1.H</th>\n",
       "      <th>FL2.H</th>\n",
       "      <th>FL3.H</th>\n",
       "      <th>FL1.A</th>\n",
       "      <th>FL1.W</th>\n",
       "      <th>Time</th>\n",
       "      <th>Gate</th>\n",
       "    </tr>\n",
       "  </thead>\n",
       "  <tbody>\n",
       "    <tr>\n",
       "      <th>0</th>\n",
       "      <td>309</td>\n",
       "      <td>376</td>\n",
       "      <td>264</td>\n",
       "      <td>198</td>\n",
       "      <td>313</td>\n",
       "      <td>0</td>\n",
       "      <td>0</td>\n",
       "      <td>2</td>\n",
       "      <td>1</td>\n",
       "    </tr>\n",
       "    <tr>\n",
       "      <th>1</th>\n",
       "      <td>83</td>\n",
       "      <td>55</td>\n",
       "      <td>139</td>\n",
       "      <td>51</td>\n",
       "      <td>146</td>\n",
       "      <td>0</td>\n",
       "      <td>0</td>\n",
       "      <td>2</td>\n",
       "      <td>1</td>\n",
       "    </tr>\n",
       "    <tr>\n",
       "      <th>2</th>\n",
       "      <td>184</td>\n",
       "      <td>198</td>\n",
       "      <td>232</td>\n",
       "      <td>83</td>\n",
       "      <td>124</td>\n",
       "      <td>0</td>\n",
       "      <td>0</td>\n",
       "      <td>2</td>\n",
       "      <td>1</td>\n",
       "    </tr>\n",
       "    <tr>\n",
       "      <th>3</th>\n",
       "      <td>169</td>\n",
       "      <td>75</td>\n",
       "      <td>696</td>\n",
       "      <td>22</td>\n",
       "      <td>193</td>\n",
       "      <td>121</td>\n",
       "      <td>26</td>\n",
       "      <td>2</td>\n",
       "      <td>2</td>\n",
       "    </tr>\n",
       "    <tr>\n",
       "      <th>4</th>\n",
       "      <td>212</td>\n",
       "      <td>98</td>\n",
       "      <td>166</td>\n",
       "      <td>0</td>\n",
       "      <td>221</td>\n",
       "      <td>0</td>\n",
       "      <td>0</td>\n",
       "      <td>2</td>\n",
       "      <td>1</td>\n",
       "    </tr>\n",
       "  </tbody>\n",
       "</table>\n",
       "</div>"
      ],
      "text/plain": [
       "   FSC.H  SSC.H  FL1.H  FL2.H  FL3.H  FL1.A  FL1.W  Time  Gate\n",
       "0    309    376    264    198    313      0      0     2     1\n",
       "1     83     55    139     51    146      0      0     2     1\n",
       "2    184    198    232     83    124      0      0     2     1\n",
       "3    169     75    696     22    193    121     26     2     2\n",
       "4    212     98    166      0    221      0      0     2     1"
      ]
     },
     "execution_count": 81,
     "metadata": {},
     "output_type": "execute_result"
    }
   ],
   "source": [
    "text = pd.read_csv('rituximab.csv')\n",
    "df = pd.DataFrame(text)\n",
    "df.head(5)"
   ]
  },
  {
   "cell_type": "code",
   "execution_count": 82,
   "metadata": {},
   "outputs": [
    {
     "name": "stdout",
     "output_type": "stream",
     "text": [
      "This file has (1545, 9).\n"
     ]
    }
   ],
   "source": [
    "print(\"This file has {}.\".format(df.shape))"
   ]
  },
  {
   "cell_type": "code",
   "execution_count": 83,
   "metadata": {},
   "outputs": [
    {
     "data": {
      "text/html": [
       "<div>\n",
       "<style scoped>\n",
       "    .dataframe tbody tr th:only-of-type {\n",
       "        vertical-align: middle;\n",
       "    }\n",
       "\n",
       "    .dataframe tbody tr th {\n",
       "        vertical-align: top;\n",
       "    }\n",
       "\n",
       "    .dataframe thead th {\n",
       "        text-align: right;\n",
       "    }\n",
       "</style>\n",
       "<table border=\"1\" class=\"dataframe\">\n",
       "  <thead>\n",
       "    <tr style=\"text-align: right;\">\n",
       "      <th></th>\n",
       "      <th>FSC.H</th>\n",
       "      <th>SSC.H</th>\n",
       "      <th>FL1.H</th>\n",
       "      <th>FL2.H</th>\n",
       "      <th>FL3.H</th>\n",
       "      <th>FL1.A</th>\n",
       "      <th>FL1.W</th>\n",
       "      <th>Time</th>\n",
       "      <th>Gate</th>\n",
       "    </tr>\n",
       "  </thead>\n",
       "  <tbody>\n",
       "    <tr>\n",
       "      <th>count</th>\n",
       "      <td>1545.000000</td>\n",
       "      <td>1545.000000</td>\n",
       "      <td>1545.000000</td>\n",
       "      <td>1545.000000</td>\n",
       "      <td>1545.000000</td>\n",
       "      <td>1545.00000</td>\n",
       "      <td>1545.000000</td>\n",
       "      <td>1545.000000</td>\n",
       "      <td>1545.000000</td>\n",
       "    </tr>\n",
       "    <tr>\n",
       "      <th>mean</th>\n",
       "      <td>287.082201</td>\n",
       "      <td>251.826537</td>\n",
       "      <td>349.163754</td>\n",
       "      <td>126.399353</td>\n",
       "      <td>258.344984</td>\n",
       "      <td>73.45890</td>\n",
       "      <td>17.598706</td>\n",
       "      <td>294.038835</td>\n",
       "      <td>0.968932</td>\n",
       "    </tr>\n",
       "    <tr>\n",
       "      <th>std</th>\n",
       "      <td>178.193127</td>\n",
       "      <td>186.647075</td>\n",
       "      <td>234.347550</td>\n",
       "      <td>90.839352</td>\n",
       "      <td>192.264975</td>\n",
       "      <td>195.15186</td>\n",
       "      <td>56.391323</td>\n",
       "      <td>177.554519</td>\n",
       "      <td>0.795270</td>\n",
       "    </tr>\n",
       "    <tr>\n",
       "      <th>min</th>\n",
       "      <td>59.000000</td>\n",
       "      <td>11.000000</td>\n",
       "      <td>0.000000</td>\n",
       "      <td>0.000000</td>\n",
       "      <td>1.000000</td>\n",
       "      <td>0.00000</td>\n",
       "      <td>0.000000</td>\n",
       "      <td>2.000000</td>\n",
       "      <td>-1.000000</td>\n",
       "    </tr>\n",
       "    <tr>\n",
       "      <th>25%</th>\n",
       "      <td>178.000000</td>\n",
       "      <td>130.000000</td>\n",
       "      <td>197.000000</td>\n",
       "      <td>55.000000</td>\n",
       "      <td>150.000000</td>\n",
       "      <td>0.00000</td>\n",
       "      <td>0.000000</td>\n",
       "      <td>140.000000</td>\n",
       "      <td>1.000000</td>\n",
       "    </tr>\n",
       "    <tr>\n",
       "      <th>50%</th>\n",
       "      <td>249.000000</td>\n",
       "      <td>199.000000</td>\n",
       "      <td>244.000000</td>\n",
       "      <td>116.000000</td>\n",
       "      <td>203.000000</td>\n",
       "      <td>0.00000</td>\n",
       "      <td>0.000000</td>\n",
       "      <td>285.000000</td>\n",
       "      <td>1.000000</td>\n",
       "    </tr>\n",
       "    <tr>\n",
       "      <th>75%</th>\n",
       "      <td>331.000000</td>\n",
       "      <td>307.000000</td>\n",
       "      <td>445.000000</td>\n",
       "      <td>185.000000</td>\n",
       "      <td>315.000000</td>\n",
       "      <td>8.00000</td>\n",
       "      <td>0.000000</td>\n",
       "      <td>451.000000</td>\n",
       "      <td>1.000000</td>\n",
       "    </tr>\n",
       "    <tr>\n",
       "      <th>max</th>\n",
       "      <td>1023.000000</td>\n",
       "      <td>1023.000000</td>\n",
       "      <td>974.000000</td>\n",
       "      <td>705.000000</td>\n",
       "      <td>1023.000000</td>\n",
       "      <td>1023.00000</td>\n",
       "      <td>444.000000</td>\n",
       "      <td>598.000000</td>\n",
       "      <td>2.000000</td>\n",
       "    </tr>\n",
       "  </tbody>\n",
       "</table>\n",
       "</div>"
      ],
      "text/plain": [
       "             FSC.H        SSC.H        FL1.H        FL2.H        FL3.H  \\\n",
       "count  1545.000000  1545.000000  1545.000000  1545.000000  1545.000000   \n",
       "mean    287.082201   251.826537   349.163754   126.399353   258.344984   \n",
       "std     178.193127   186.647075   234.347550    90.839352   192.264975   \n",
       "min      59.000000    11.000000     0.000000     0.000000     1.000000   \n",
       "25%     178.000000   130.000000   197.000000    55.000000   150.000000   \n",
       "50%     249.000000   199.000000   244.000000   116.000000   203.000000   \n",
       "75%     331.000000   307.000000   445.000000   185.000000   315.000000   \n",
       "max    1023.000000  1023.000000   974.000000   705.000000  1023.000000   \n",
       "\n",
       "            FL1.A        FL1.W         Time         Gate  \n",
       "count  1545.00000  1545.000000  1545.000000  1545.000000  \n",
       "mean     73.45890    17.598706   294.038835     0.968932  \n",
       "std     195.15186    56.391323   177.554519     0.795270  \n",
       "min       0.00000     0.000000     2.000000    -1.000000  \n",
       "25%       0.00000     0.000000   140.000000     1.000000  \n",
       "50%       0.00000     0.000000   285.000000     1.000000  \n",
       "75%       8.00000     0.000000   451.000000     1.000000  \n",
       "max    1023.00000   444.000000   598.000000     2.000000  "
      ]
     },
     "execution_count": 83,
     "metadata": {},
     "output_type": "execute_result"
    }
   ],
   "source": [
    "df.describe()"
   ]
  },
  {
   "cell_type": "code",
   "execution_count": 84,
   "metadata": {},
   "outputs": [
    {
     "data": {
      "text/plain": [
       "array([ 1,  2, -1], dtype=int64)"
      ]
     },
     "execution_count": 84,
     "metadata": {},
     "output_type": "execute_result"
    }
   ],
   "source": [
    "df.Gate.unique()"
   ]
  },
  {
   "cell_type": "markdown",
   "metadata": {},
   "source": [
    "# Why is there a negative gate?\n",
    "### Gate values with -1 is considered noise by the operator and was assigned to be removed."
   ]
  },
  {
   "cell_type": "code",
   "execution_count": 85,
   "metadata": {},
   "outputs": [
    {
     "name": "stdout",
     "output_type": "stream",
     "text": [
      "(1374, 9), [1 2]\n"
     ]
    }
   ],
   "source": [
    "#Removing gate values with -1\n",
    "df = df[text.Gate != -1]\n",
    "print(\"{}, {}\".format(df.shape, df.Gate.unique()))"
   ]
  },
  {
   "cell_type": "code",
   "execution_count": 86,
   "metadata": {},
   "outputs": [
    {
     "data": {
      "text/plain": [
       "FSC.H    0\n",
       "SSC.H    0\n",
       "FL1.H    0\n",
       "FL2.H    0\n",
       "FL3.H    0\n",
       "FL1.A    0\n",
       "FL1.W    0\n",
       "Time     0\n",
       "Gate     0\n",
       "dtype: int64"
      ]
     },
     "execution_count": 86,
     "metadata": {},
     "output_type": "execute_result"
    }
   ],
   "source": [
    "#Checking Nan Values:\n",
    "np.isnan(df).sum()"
   ]
  },
  {
   "cell_type": "code",
   "execution_count": 87,
   "metadata": {},
   "outputs": [
    {
     "data": {
      "image/png": "[encoded data removed]",
      "text/plain": [
       "<Figure size 720x720 with 2 Axes>"
      ]
     },
     "metadata": {},
     "output_type": "display_data"
    }
   ],
   "source": [
    "corr = df.corr()\n",
    "mask = np.zeros_like(corr)\n",
    "mask[np.triu_indices_from(mask)] = True\n",
    "mask = mask[1:, :-1]\n",
    "corr = corr.iloc[1:, :-1]\n",
    "\n",
    "with sns.axes_style(\"white\"):\n",
    "    f, ax = plt.subplots(figsize=(10, 10))\n",
    "    ax = sns.heatmap(corr, mask=mask, vmax=1, annot=True, \n",
    "                     linewidths = .5, cbar_kws={\"orientation\":\"horizontal\"})\n"
   ]
  },
  {
   "cell_type": "code",
   "execution_count": 90,
   "metadata": {},
   "outputs": [
    {
     "data": {
      "text/plain": [
       "Index(['FSC.H', 'SSC.H', 'FL1.H', 'FL2.H', 'FL3.H', 'FL1.A', 'FL1.W', 'Time',\n",
       "       'Gate'],\n",
       "      dtype='object')"
      ]
     },
     "execution_count": 90,
     "metadata": {},
     "output_type": "execute_result"
    }
   ],
   "source": [
    "df.columns"
   ]
  },
  {
   "cell_type": "code",
   "execution_count": 100,
   "metadata": {
    "scrolled": true
   },
   "outputs": [
    {
     "data": {
      "image/png": "[encoded data removed]",
      "text/plain": [
       "<Figure size 864x576 with 2 Axes>"
      ]
     },
     "metadata": {
      "needs_background": "light"
     },
     "output_type": "display_data"
    }
   ],
   "source": [
    "ax = sns.pairplot(data=df, hue = 'Gate', vars=['FL1.H'])\n",
    "ax.fig.set_size_inches(12, 8);"
   ]
  },
  {
   "cell_type": "code",
   "execution_count": null,
   "metadata": {},
   "outputs": [],
   "source": []
  }
 ],
 "metadata": {
  "kernelspec": {
   "display_name": "Python 3",
   "language": "python",
   "name": "python3"
  },
  "language_info": {
   "codemirror_mode": {
    "name": "ipython",
    "version": 3
   },
   "file_extension": ".py",
   "mimetype": "text/x-python",
   "name": "python",
   "nbconvert_exporter": "python",
   "pygments_lexer": "ipython3",
   "version": "3.8.3"
  }
 },
 "nbformat": 4,
 "nbformat_minor": 4
}
